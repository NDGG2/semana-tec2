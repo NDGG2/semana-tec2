{
  "nbformat": 4,
  "nbformat_minor": 0,
  "metadata": {
    "colab": {
      "name": "6.2 - Actividad Regresion Linea.ipynb",
      "provenance": [],
      "collapsed_sections": []
    },
    "kernelspec": {
      "display_name": "Python 3",
      "language": "python",
      "name": "python3"
    },
    "language_info": {
      "codemirror_mode": {
        "name": "ipython",
        "version": 3
      },
      "file_extension": ".py",
      "mimetype": "text/x-python",
      "name": "python",
      "nbconvert_exporter": "python",
      "pygments_lexer": "ipython3",
      "version": "3.8.5"
    }
  },
  "cells": [
    {
      "cell_type": "markdown",
      "metadata": {
        "id": "NAGZIGX35a8I"
      },
      "source": [
        "# Actividad\n",
        "\n",
        "- **Nombre**: Andrea Yamileth Florencia Ortiz\n",
        "- **Matrícula**: A00830159\n",
        "\n",
        "# Entregar \n",
        "Archivo PDF de la actividad y la liga de la actividad en su repostitorio.\n",
        "\n",
        "# Nota: \n",
        "Todas las tareas entregadas fuera de la fecha limite se califican sobre 50 de los 100 puntos posibles.\n"
      ]
    },
    {
      "cell_type": "markdown",
      "metadata": {
        "id": "A6u_Q2Jwxn7Q"
      },
      "source": [
        "**Presion Arterial**"
      ]
    },
    {
      "cell_type": "markdown",
      "metadata": {
        "id": "aZ8qy6Ir5c8X"
      },
      "source": [
        "1. Carga los datos del archivo **presion.csv**"
      ]
    },
    {
      "cell_type": "code",
      "metadata": {
        "id": "ahNyt07-5ijr",
        "colab": {
          "base_uri": "https://localhost:8080/",
          "height": 0
        },
        "outputId": "b192e8a9-f053-46d7-e1e3-afd9c130df30"
      },
      "source": [
        "# Si trabajamos en Google Colaboratory corremos las siguientes lineas de código\n",
        "from google.colab import drive\n",
        "drive.mount('/content/drive/')"
      ],
      "execution_count": 2,
      "outputs": [
        {
          "output_type": "stream",
          "text": [
            "Mounted at /content/drive/\n"
          ],
          "name": "stdout"
        }
      ]
    },
    {
      "cell_type": "code",
      "metadata": {
        "colab": {
          "base_uri": "https://localhost:8080/",
          "height": 0
        },
        "id": "1pnHf6D68MCF",
        "outputId": "2858093d-0a76-43b8-f015-91fd7ee3946d"
      },
      "source": [
        "# Nos cambiamos a la carpeta donde tengamos el repositorio\n",
        "%cd 'drive/MyDrive/SemanaTec/Repos/arte-analitica'"
      ],
      "execution_count": 3,
      "outputs": [
        {
          "output_type": "stream",
          "text": [
            "/content/drive/MyDrive/SemanaTec/Repos/arte-analitica\n"
          ],
          "name": "stdout"
        }
      ]
    },
    {
      "cell_type": "code",
      "metadata": {
        "id": "9i_lrAZO8MxJ"
      },
      "source": [
        "import numpy as np\n",
        "import pandas as pd\n",
        "import matplotlib.pyplot as plt\n",
        "import seaborn as sns\n",
        "\n",
        "sns.set()"
      ],
      "execution_count": 4,
      "outputs": []
    },
    {
      "cell_type": "code",
      "metadata": {
        "colab": {
          "base_uri": "https://localhost:8080/",
          "height": 195
        },
        "id": "7KpEsnXa8Rfh",
        "outputId": "d4c5b34e-7262-48f1-9b49-c858ff9fe6b3"
      },
      "source": [
        "# Vamos a cargar una tabla con datos sobre presion\n",
        "presion = pd.read_csv('data/presion.csv')\n",
        "\n",
        "presion = presion.iloc[:, 0:2]\n",
        "presion.head()"
      ],
      "execution_count": 5,
      "outputs": [
        {
          "output_type": "execute_result",
          "data": {
            "text/html": [
              "<div>\n",
              "<style scoped>\n",
              "    .dataframe tbody tr th:only-of-type {\n",
              "        vertical-align: middle;\n",
              "    }\n",
              "\n",
              "    .dataframe tbody tr th {\n",
              "        vertical-align: top;\n",
              "    }\n",
              "\n",
              "    .dataframe thead th {\n",
              "        text-align: right;\n",
              "    }\n",
              "</style>\n",
              "<table border=\"1\" class=\"dataframe\">\n",
              "  <thead>\n",
              "    <tr style=\"text-align: right;\">\n",
              "      <th></th>\n",
              "      <th>edad</th>\n",
              "      <th>presion</th>\n",
              "    </tr>\n",
              "  </thead>\n",
              "  <tbody>\n",
              "    <tr>\n",
              "      <th>0</th>\n",
              "      <td>56</td>\n",
              "      <td>148</td>\n",
              "    </tr>\n",
              "    <tr>\n",
              "      <th>1</th>\n",
              "      <td>45</td>\n",
              "      <td>120</td>\n",
              "    </tr>\n",
              "    <tr>\n",
              "      <th>2</th>\n",
              "      <td>72</td>\n",
              "      <td>159</td>\n",
              "    </tr>\n",
              "    <tr>\n",
              "      <th>3</th>\n",
              "      <td>36</td>\n",
              "      <td>118</td>\n",
              "    </tr>\n",
              "    <tr>\n",
              "      <th>4</th>\n",
              "      <td>63</td>\n",
              "      <td>146</td>\n",
              "    </tr>\n",
              "  </tbody>\n",
              "</table>\n",
              "</div>"
            ],
            "text/plain": [
              "   edad  presion\n",
              "0    56      148\n",
              "1    45      120\n",
              "2    72      159\n",
              "3    36      118\n",
              "4    63      146"
            ]
          },
          "metadata": {
            "tags": []
          },
          "execution_count": 5
        }
      ]
    },
    {
      "cell_type": "markdown",
      "metadata": {
        "id": "J8x9l3sd5jYI"
      },
      "source": [
        "2. Gráfica la información en el eje de las x la edad  y en el eje y la presión\n"
      ]
    },
    {
      "cell_type": "code",
      "metadata": {
        "id": "qCbTiXd45qr0",
        "colab": {
          "base_uri": "https://localhost:8080/",
          "height": 318
        },
        "outputId": "a97c29e8-dd71-48cb-ec32-4509b52f343d"
      },
      "source": [
        "x= presion['edad']\n",
        "y= presion['presion']\n",
        "plt.scatter(x, y);\n",
        "plt.ylabel('Presión')\n",
        "plt.xlabel('Edad')\n",
        "plt.title('Presión respecto a la Edad')"
      ],
      "execution_count": 7,
      "outputs": [
        {
          "output_type": "execute_result",
          "data": {
            "text/plain": [
              "Text(0.5, 1.0, 'Presión respecto a la Edad')"
            ]
          },
          "metadata": {
            "tags": []
          },
          "execution_count": 7
        },
        {
          "output_type": "display_data",
          "data": {
            "image/png": "[encoded data removed]",
            "text/plain": [
              "<Figure size 432x288 with 1 Axes>"
            ]
          },
          "metadata": {
            "tags": []
          }
        }
      ]
    },
    {
      "cell_type": "markdown",
      "metadata": {
        "id": "Ha4fEpQ_5roa"
      },
      "source": [
        "3. Genera una regresión líneal para obtener una aproximación de la ecuación \n",
        "$$\n",
        "y = ax + b\n",
        "$$\n",
        "donde $ a $ se conoce comúnmente como * pendiente *, y $ b $ se conoce comúnmente como * intersección *.\n",
        "\n",
        "¿Cuál es el valor de a y cuál es el valor de b?"
      ]
    },
    {
      "cell_type": "code",
      "metadata": {
        "id": "BIcuqKya6zHY",
        "colab": {
          "base_uri": "https://localhost:8080/",
          "height": 0
        },
        "outputId": "1358f6eb-9e15-420a-ef61-89abab4f10cd"
      },
      "source": [
        "print(\"Model slope:    \", model.coef_[0])\n",
        "print(\"Model intercept:\", model.intercept_)"
      ],
      "execution_count": 9,
      "outputs": [
        {
          "output_type": "stream",
          "text": [
            "Model slope:     1.1483331897665603\n",
            "Model intercept: 79.36850719269533\n"
          ],
          "name": "stdout"
        }
      ]
    },
    {
      "cell_type": "markdown",
      "metadata": {
        "id": "OGwecRAP6zSc"
      },
      "source": [
        "4. Gráfica los datos reales vs modelo obtenido. \n",
        "\n",
        "Se debe visualizar los datos reales ( azules) \n",
        "Recta del modelo ( negra) \n",
        "Distancias ( verde ) "
      ]
    },
    {
      "cell_type": "code",
      "metadata": {
        "colab": {
          "base_uri": "https://localhost:8080/",
          "height": 405
        },
        "id": "gW46LMuzADxx",
        "outputId": "078d6fd1-9c88-44da-86ef-c25371e3c281"
      },
      "source": [
        "from sklearn.linear_model import LinearRegression\n",
        "model = LinearRegression(fit_intercept=True)\n",
        "\n",
        "model.fit(x[:, np.newaxis], y)\n",
        "\n",
        "xfit = np.linspace(30, 75, 1000)\n",
        "yfit = model.predict(xfit[:, np.newaxis])\n",
        "\n",
        "plt.scatter(x, y)\n",
        "plt.plot(xfit, yfit, color=\"black\");\n",
        "plt.plot(x,y, 'o')\n",
        "plt.plot(np.vstack([x,x]), np.vstack([y, model.predict(x[:, np.newaxis])]), color=\"green\");\n",
        "plt.xlabel('Edad')\n",
        "plt.ylabel('Presión')\n",
        "plt.title('Presión respecto a la edad')"
      ],
      "execution_count": 8,
      "outputs": [
        {
          "output_type": "stream",
          "text": [
            "/usr/local/lib/python3.7/dist-packages/ipykernel_launcher.py:4: FutureWarning: Support for multi-dimensional indexing (e.g. `obj[:, None]`) is deprecated and will be removed in a future version.  Convert to a numpy array before indexing instead.\n",
            "  after removing the cwd from sys.path.\n",
            "/usr/local/lib/python3.7/dist-packages/ipykernel_launcher.py:12: FutureWarning: Support for multi-dimensional indexing (e.g. `obj[:, None]`) is deprecated and will be removed in a future version.  Convert to a numpy array before indexing instead.\n",
            "  if sys.path[0] == '':\n"
          ],
          "name": "stderr"
        },
        {
          "output_type": "execute_result",
          "data": {
            "text/plain": [
              "Text(0.5, 1.0, 'Presión respecto a la edad')"
            ]
          },
          "metadata": {
            "tags": []
          },
          "execution_count": 8
        },
        {
          "output_type": "display_data",
          "data": {
            "image/png": "[encoded data removed]",
            "text/plain": [
              "<Figure size 432x288 with 1 Axes>"
            ]
          },
          "metadata": {
            "tags": []
          }
        }
      ]
    },
    {
      "cell_type": "code",
      "metadata": {
        "id": "hhStTwBE64m_"
      },
      "source": [
        ""
      ],
      "execution_count": null,
      "outputs": []
    },
    {
      "cell_type": "markdown",
      "metadata": {
        "id": "oZhvlIU57ECO"
      },
      "source": [
        "4. ¿Cuál es la presión arterial esperada para una persona de 76 años?\n",
        "\n",
        "Genera una función que calcule lo anterior"
      ]
    },
    {
      "cell_type": "code",
      "metadata": {
        "id": "AAorqUTv7LjX",
        "colab": {
          "base_uri": "https://localhost:8080/"
        },
        "outputId": "6ee5e5fc-9fb6-49be-dfc1-51b01a521972"
      },
      "source": [
        "edad_calcular=76\n",
        "\n",
        "def presion(edad):\n",
        "  y = model.coef_[0] * edad + model.intercept_\n",
        "  return y\n",
        "\n",
        "presion(edad_calcular)"
      ],
      "execution_count": null,
      "outputs": [
        {
          "output_type": "execute_result",
          "data": {
            "text/plain": [
              "166.6418296149539"
            ]
          },
          "metadata": {
            "tags": []
          },
          "execution_count": 19
        }
      ]
    },
    {
      "cell_type": "markdown",
      "metadata": {
        "id": "QpeT5QCaxtMi"
      },
      "source": [
        "**Ventas de mi negocio**\n",
        "\n",
        "Nuestro objetivo será contruir un modelo que prediga las ventas del producto dependiendo de cuánto presupuesto se gaste en cada medio."
      ]
    },
    {
      "cell_type": "markdown",
      "metadata": {
        "id": "erS5zKSGx9SS"
      },
      "source": [
        "1. Carga los datos del archivo AdvmiNegocio.csv"
      ]
    },
    {
      "cell_type": "code",
      "metadata": {
        "id": "waoWhXhsyTIW",
        "colab": {
          "base_uri": "https://localhost:8080/",
          "height": 195
        },
        "outputId": "df83f855-71dd-480b-dcf2-61053eea7d96"
      },
      "source": [
        "# Vamos a cargar una tabla con datos sobre presion\n",
        "advmi = pd.read_csv('data/AdvmiNegocio.csv')\n",
        "advmi = advmi.iloc[:, 1::]\n",
        "advmi.head()"
      ],
      "execution_count": 11,
      "outputs": [
        {
          "output_type": "execute_result",
          "data": {
            "text/html": [
              "<div>\n",
              "<style scoped>\n",
              "    .dataframe tbody tr th:only-of-type {\n",
              "        vertical-align: middle;\n",
              "    }\n",
              "\n",
              "    .dataframe tbody tr th {\n",
              "        vertical-align: top;\n",
              "    }\n",
              "\n",
              "    .dataframe thead th {\n",
              "        text-align: right;\n",
              "    }\n",
              "</style>\n",
              "<table border=\"1\" class=\"dataframe\">\n",
              "  <thead>\n",
              "    <tr style=\"text-align: right;\">\n",
              "      <th></th>\n",
              "      <th>Redes</th>\n",
              "      <th>Youtube</th>\n",
              "      <th>TV</th>\n",
              "      <th>sales</th>\n",
              "    </tr>\n",
              "  </thead>\n",
              "  <tbody>\n",
              "    <tr>\n",
              "      <th>0</th>\n",
              "      <td>6903</td>\n",
              "      <td>1134</td>\n",
              "      <td>2076</td>\n",
              "      <td>663</td>\n",
              "    </tr>\n",
              "    <tr>\n",
              "      <th>1</th>\n",
              "      <td>1335</td>\n",
              "      <td>1179</td>\n",
              "      <td>1353</td>\n",
              "      <td>312</td>\n",
              "    </tr>\n",
              "    <tr>\n",
              "      <th>2</th>\n",
              "      <td>516</td>\n",
              "      <td>1377</td>\n",
              "      <td>2079</td>\n",
              "      <td>279</td>\n",
              "    </tr>\n",
              "    <tr>\n",
              "      <th>3</th>\n",
              "      <td>4545</td>\n",
              "      <td>1239</td>\n",
              "      <td>1755</td>\n",
              "      <td>555</td>\n",
              "    </tr>\n",
              "    <tr>\n",
              "      <th>4</th>\n",
              "      <td>5424</td>\n",
              "      <td>324</td>\n",
              "      <td>1752</td>\n",
              "      <td>387</td>\n",
              "    </tr>\n",
              "  </tbody>\n",
              "</table>\n",
              "</div>"
            ],
            "text/plain": [
              "   Redes  Youtube    TV  sales\n",
              "0   6903     1134  2076    663\n",
              "1   1335     1179  1353    312\n",
              "2    516     1377  2079    279\n",
              "3   4545     1239  1755    555\n",
              "4   5424      324  1752    387"
            ]
          },
          "metadata": {
            "tags": []
          },
          "execution_count": 11
        }
      ]
    },
    {
      "cell_type": "markdown",
      "metadata": {
        "id": "KQYRlwotyTXh"
      },
      "source": [
        "2. Generar una grafica para visuaizar  cómo se relaciona cada columna de presupuesto contra las ventas. De mi negocio. ( Redes,Youtube,TV)\n"
      ]
    },
    {
      "cell_type": "code",
      "metadata": {
        "id": "3x5005GpygO5",
        "colab": {
          "base_uri": "https://localhost:8080/",
          "height": 318
        },
        "outputId": "64cf27fa-955f-4569-b3b0-19b3bfadd950"
      },
      "source": [
        "# Vamos a ver cómo se relaciona cada columna de presupuesto contra las ventas.\n",
        "# Grafiquemos en una misma figura las tres relaciones.\n",
        "fig, axs = plt.subplots(1, 3, figsize=(15,4))\n",
        "\n",
        "# axs son nuestros espacios para graficar. Tenemos 3 espacios.\n",
        "\n",
        "# Redes\n",
        "#axs[0] nos dice que vamos a graficar en el primer espacio.\n",
        "sns.scatterplot(data=advmi, x='Redes',y='sales', ax=axs[0])\n",
        "axs[0].set_title('Ventas contra Presupuesto Redes')\n",
        "# Youtube\n",
        "#axs[1] nos dice que vamos a graficar en el segundo espacio.\n",
        "sns.scatterplot(data=advmi, x='Youtube',y='sales', ax=axs[1], color='red')\n",
        "axs[1].set_title('Ventas contra Presupuesto Youtube')\n",
        "# TV\n",
        "sns.scatterplot(data=advmi, x='TV',y='sales', ax=axs[2], color='green')\n",
        "axs[2].set_title('Ventas contra Presupuesto TVS')"
      ],
      "execution_count": 13,
      "outputs": [
        {
          "output_type": "execute_result",
          "data": {
            "text/plain": [
              "Text(0.5, 1.0, 'Ventas contra Presupuesto TVS')"
            ]
          },
          "metadata": {
            "tags": []
          },
          "execution_count": 13
        },
        {
          "output_type": "display_data",
          "data": {
            "image/png": "[encoded data removed]",
            "text/plain": [
              "<Figure size 1080x288 with 3 Axes>"
            ]
          },
          "metadata": {
            "tags": []
          }
        }
      ]
    },
    {
      "cell_type": "markdown",
      "metadata": {
        "id": "rrREuedNygXw"
      },
      "source": [
        "3. ¿ Qué conclusiones puedes obtener de las graficas anteriores?"
      ]
    },
    {
      "cell_type": "markdown",
      "metadata": {
        "id": "Ap42szXtyoiK"
      },
      "source": [
        "Que las redes es el mejor medio de publicidad para predecir las ventas"
      ]
    },
    {
      "cell_type": "markdown",
      "metadata": {
        "id": "U09F1JeRyuIq"
      },
      "source": [
        "4. **Regresión lineal**. En su forma más simple, consiste en asumir que una variable $x$ y una variable $y$ presentan una relación lineal de la forma:\n",
        "\n",
        "$$ y \\approx \\beta_0 + \\beta_1 \\cdot x$$\n",
        "\n",
        "¿Cuál es el valor de beta_0 , beta_1 y el Score  para Redes vs Ventas, TV vs Ventas y YouTube vs Ventas?"
      ]
    },
    {
      "cell_type": "code",
      "metadata": {
        "colab": {
          "base_uri": "https://localhost:8080/"
        },
        "id": "wbxyopQhEno0",
        "outputId": "646d46bb-3c0a-4e44-f6b7-8834f34e951d"
      },
      "source": [
        "# La función para implementar una regresión lineal en Python\n",
        "from sklearn.linear_model import LinearRegression\n",
        "\n",
        "# Con esta función, podemos calcular los coeficientes para cada una de las variables\n",
        "\n",
        "# Televisión\n",
        "lm1 = LinearRegression()\n",
        "# La variable X la ponemos con doble corchete!\n",
        "lm1.fit(advmi[['TV']], advmi['sales'])\n",
        "print('TV')\n",
        "print('beta_0: ', lm1.intercept_)\n",
        "print('beta_1: ', lm1.coef_)\n",
        "print('Score: ', lm1.score(advmi[['TV']], advmi['sales']), '\\n')\n",
        "\n",
        "# Redes\n",
        "lm2 = LinearRegression()\n",
        "# La variable X la ponemos con doble corchete!\n",
        "lm2.fit(advmi[['Redes']], advmi['sales'])\n",
        "print('Redes')\n",
        "print('beta_0: ', lm2.intercept_)\n",
        "print('beta_1: ', lm2.coef_)\n",
        "print('Score: ', lm2.score(advmi[['Redes']], advmi['sales']), '\\n')\n",
        "\n",
        "\n",
        "# Youtube\n",
        "lm3 = LinearRegression()\n",
        "# La variable X la ponemos con doble corchete!\n",
        "lm3.fit(advmi[['Youtube']], advmi['sales'])\n",
        "print('Youtube')\n",
        "print('beta_0: ', lm3.intercept_)\n",
        "print('beta_1: ', lm3.coef_)\n",
        "print('Score: ', lm3.score(advmi[['Youtube']], advmi['sales']))"
      ],
      "execution_count": null,
      "outputs": [
        {
          "output_type": "stream",
          "text": [
            "TV\n",
            "beta_0:  370.5422120783448\n",
            "beta_1:  [0.0546931]\n",
            "Score:  0.05212044544430494 \n",
            "\n",
            "Redes\n",
            "beta_0:  210.97780647383084\n",
            "beta_1:  [0.04753664]\n",
            "Score:  0.611875050850071 \n",
            "\n",
            "Youtube\n",
            "beta_0:  279.3491428547485\n",
            "beta_1:  [0.20249578]\n",
            "Score:  0.33203245544529536\n"
          ],
          "name": "stdout"
        }
      ]
    },
    {
      "cell_type": "markdown",
      "metadata": {
        "id": "er8aCv1l0FQK"
      },
      "source": [
        "5. ¿Cuál de los modelos es mejor de acuerdo al score ordenalos del mejor al peor?"
      ]
    },
    {
      "cell_type": "markdown",
      "metadata": {
        "id": "gI9pf8MEFcWv"
      },
      "source": [
        "Redes > Youtube > TV \n",
        "ya que entre mayor sea el Score mejor modelo será"
      ]
    },
    {
      "cell_type": "markdown",
      "metadata": {
        "id": "56LBN0_d0OAC"
      },
      "source": [
        "6.  **Regresión lineal múltiple**. Como ahora vamos a incluir más de una variable, el modelo se rescribe a :\n",
        "\n",
        "$$ \\hat{y} = \\hat{\\beta}_0 + \\hat{\\beta}_1 \\cdot x_1 + \\hat{\\beta}_2 \\cdot x_2 + \\hat{\\beta}_3\\cdot x_3 + \\ldots \\epsilon $$\n",
        "\n",
        "Elige  las diferentes combinaciones de variables. Ejemplo: Redes y Youtube vs Ventas \n",
        "\n",
        "¿Cuál es el valor de beta_0, betas_1 , beta_2 , el score y el score ajustado?\n",
        "\n"
      ]
    },
    {
      "cell_type": "markdown",
      "metadata": {
        "id": "C6bsCdYP1jd5"
      },
      "source": [
        "7.  ¿Cuál modelo es el que nos conviene elegir?"
      ]
    },
    {
      "cell_type": "code",
      "metadata": {
        "id": "bgAzZoSGHz_F"
      },
      "source": [
        "# Vamos a definir una función para calcular el valor ajustado\n",
        "def score_adj(X, y, model):\n",
        "    return 1 - (1-model.score(X, y))*(len(y)-1)/(len(y)-X.shape[1]-1)"
      ],
      "execution_count": null,
      "outputs": []
    },
    {
      "cell_type": "code",
      "metadata": {
        "colab": {
          "base_uri": "https://localhost:8080/"
        },
        "id": "AvuyKobRGOYg",
        "outputId": "7c278214-b6ca-46f6-a771-ac6c72a63708"
      },
      "source": [
        "# Vamos a calcular el modelo con dos variables simultáneas\n",
        "# Televisión  y Redes\n",
        "lm4 = LinearRegression()\n",
        "# La variable X la ponemos con doble corchete!\n",
        "lm4.fit(advmi[['TV', 'Redes']], advmi['sales'])\n",
        "print('TV y Redes')\n",
        "print('beta_0: ', lm4.intercept_)\n",
        "print('betas: ', lm4.coef_)\n",
        "print('Score: ', lm4.score(advmi[['TV', 'Redes']], advmi['sales']), '\\n')\n",
        "print('Score ajustado:', score_adj(advmi[['TV', 'Redes']], advmi['sales'], lm4), '\\n')\n",
        "\n",
        "# Tv y Youtube\n",
        "lm5 = LinearRegression()\n",
        "# La variable X la ponemos con doble corchete!\n",
        "lm5.fit(advmi[['TV','Youtube']], advmi['sales'])\n",
        "print('TV y Youtube')\n",
        "print('beta_0: ', lm5.intercept_)\n",
        "print('betas: ', lm5.coef_)\n",
        "print('Score: ', lm5.score(advmi[['TV','Youtube']], advmi['sales']), '\\n')\n",
        "print('Score ajustado:', score_adj(advmi[['TV', 'Youtube']], advmi['sales'], lm5), '\\n')\n",
        "\n",
        "\n",
        "# Youtube y Redes\n",
        "lm6 = LinearRegression()\n",
        "# La variable X la ponemos con doble corchete!\n",
        "lm6.fit(advmi[['Redes','Youtube']], advmi['sales'])\n",
        "print('Redes y Youtube')\n",
        "print('beta_0: ', lm6.intercept_)\n",
        "print('betas: ', lm6.coef_)\n",
        "print('Score: ', lm6.score(advmi[['Redes','Youtube']], advmi['sales']))\n",
        "print('Score ajustado:', score_adj(advmi[['Redes', 'Youtube']], advmi['sales'], lm6), '\\n')"
      ],
      "execution_count": null,
      "outputs": [
        {
          "output_type": "stream",
          "text": [
            "TV y Redes\n",
            "beta_0:  173.24843903734907\n",
            "betas:  [0.04421942 0.04690121]\n",
            "Score:  0.6458354938293271 \n",
            "\n",
            "Score ajustado: 0.6422399150864777 \n",
            "\n",
            "TV y Youtube\n",
            "beta_0:  275.6676137758969\n",
            "betas:  [0.00664417 0.19904459]\n",
            "Score:  0.33270518395032256 \n",
            "\n",
            "Score ajustado: 0.3259306172899198 \n",
            "\n",
            "Redes y Youtube\n",
            "beta_0:  87.63299737215414\n",
            "betas:  [0.04575482 0.18799423]\n",
            "Score:  0.8971942610828956\n",
            "Score ajustado: 0.8961505479974428 \n",
            "\n"
          ],
          "name": "stdout"
        }
      ]
    },
    {
      "cell_type": "markdown",
      "metadata": {
        "id": "iVZeSnvp1qUa"
      },
      "source": [
        "Nos conviene ir por el de Redes y Youtube ya que tiene un Score ajustado mucho mayor al de los otros modelos"
      ]
    },
    {
      "cell_type": "markdown",
      "metadata": {
        "id": "WlyQ4VbBpuwF"
      },
      "source": [
        "##**Conclusiones**\n",
        "###*Andrea*\n",
        "Mediante el uso de herramientas como Pandas, Seaborn, etc., la realización de gráficas y proceso de datos es más fácil. Debido a que se está manejando un código, si se hace de manera manual ya sea con funciones implementando for, while, if, entre otros, el proceso será aún más tardado si es que estamos manejando una gran cantidad de datos. Asimismo, estas herramientas nos ayudaron a procesar de manera más rápida todos lo datos y generar un modelo que prediga un valor en específico. Puede que existan otros programas en los cuales ya se realicen aún más rápidos estos modelos pero, la limitante radica en la cantidad de valores con los que se estén trabajando y los datos que queremos que nos genere, ya sea estadísticos o lógicos.\n",
        "\n",
        "###*Aldo*\n",
        "No había tenido la oportunidad de trabajar con Colaboratory anteriormente. Creo que en este tipo de actividad donde usamos regresión lineal, Colaboratory junto con las librerías de Python te ofrecen muchas oportunidades, para obtener los cálculos de una manera más sencillo y poder graficarlos para visualizar la informacion e interpretarla de una mejor manera. Creo que lo que aprendí en esta actividad es información muy valiosa que complementa a mis conocimientos previos de Python y que el día de mañana me puede abrir puertas hacia muchos lugares.\n",
        "\n",
        "###*Jose*\n",
        "Gracias a esta actividad aprendí sobre nuevas librerías de las cuales nunca había escuchado ni utilizado. Como Pandas, SkLearn, Matplot, entre otras. Al aprender a utilizar estas herramientas se de nuevas formas de resolver ciertas problemáticas de una manera mucho más eficiente y rápida.\n"
      ]
    }
  ]
}